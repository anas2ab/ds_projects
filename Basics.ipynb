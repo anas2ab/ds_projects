{
 "cells": [
  {
   "cell_type": "code",
   "execution_count": 2,
   "metadata": {
    "collapsed": false
   },
   "outputs": [
    {
     "name": "stdout",
     "output_type": "stream",
     "text": [
      "[['', 'year', 'month', 'intent', 'police', 'sex', 'age', 'race', 'hispanic', 'place', 'education'], ['1', '2012', '01', 'Suicide', '0', 'M', '34', 'Asian/Pacific Islander', '100', 'Home', '4'], ['2', '2012', '01', 'Suicide', '0', 'F', '21', 'White', '100', 'Street', '3'], ['3', '2012', '01', 'Suicide', '0', 'M', '60', 'White', '100', 'Other specified', '4'], ['4', '2012', '02', 'Suicide', '0', 'M', '64', 'White', '100', 'Home', '4']]\n"
     ]
    }
   ],
   "source": [
    "import csv\n",
    "f = open(\"guns.csv\", \"r\")\n",
    "csvreader = csv.reader(f)\n",
    "data = list(csvreader)\n",
    "print(data[0:5])"
   ]
  },
  {
   "cell_type": "code",
   "execution_count": 4,
   "metadata": {
    "collapsed": false
   },
   "outputs": [
    {
     "name": "stdout",
     "output_type": "stream",
     "text": [
      "['', 'year', 'month', 'intent', 'police', 'sex', 'age', 'race', 'hispanic', 'place', 'education']\n",
      "[['1', '2012', '01', 'Suicide', '0', 'M', '34', 'Asian/Pacific Islander', '100', 'Home', '4'], ['2', '2012', '01', 'Suicide', '0', 'F', '21', 'White', '100', 'Street', '3'], ['3', '2012', '01', 'Suicide', '0', 'M', '60', 'White', '100', 'Other specified', '4'], ['4', '2012', '02', 'Suicide', '0', 'M', '64', 'White', '100', 'Home', '4'], ['5', '2012', '02', 'Suicide', '0', 'M', '31', 'White', '100', 'Other specified', '2']]\n"
     ]
    }
   ],
   "source": [
    "headers = data[0]\n",
    "print(headers)\n",
    "new_data = data[1:len(data)]\n",
    "print(new_data[0:5])"
   ]
  },
  {
   "cell_type": "code",
   "execution_count": 5,
   "metadata": {
    "collapsed": false
   },
   "outputs": [
    {
     "name": "stdout",
     "output_type": "stream",
     "text": [
      "{2012: 33563, 2013: 33636, 2014: 33599}\n"
     ]
    }
   ],
   "source": [
    "years = []\n",
    "for row in new_data:\n",
    "    years.append(int(row[1]))\n",
    "year_counts = {}\n",
    "for year in years:\n",
    "    if(year in year_counts):\n",
    "        year_counts[year] = year_counts[year] + 1\n",
    "    else:\n",
    "        year_counts[year] = 1\n",
    "print(year_counts)"
   ]
  },
  {
   "cell_type": "code",
   "execution_count": 13,
   "metadata": {
    "collapsed": false
   },
   "outputs": [
    {
     "name": "stdout",
     "output_type": "stream",
     "text": [
      "{datetime.datetime(2014, 12, 1, 0, 0): 2857, datetime.datetime(2012, 11, 1, 0, 0): 2729, datetime.datetime(2012, 2, 1, 0, 0): 2357, datetime.datetime(2013, 9, 1, 0, 0): 2742, datetime.datetime(2013, 10, 1, 0, 0): 2808, datetime.datetime(2014, 7, 1, 0, 0): 2884, datetime.datetime(2012, 3, 1, 0, 0): 2743, datetime.datetime(2012, 12, 1, 0, 0): 2791, datetime.datetime(2013, 3, 1, 0, 0): 2862, datetime.datetime(2014, 9, 1, 0, 0): 2914, datetime.datetime(2012, 7, 1, 0, 0): 3026, datetime.datetime(2013, 12, 1, 0, 0): 2765, datetime.datetime(2014, 8, 1, 0, 0): 2970, datetime.datetime(2014, 2, 1, 0, 0): 2361, datetime.datetime(2012, 10, 1, 0, 0): 2733, datetime.datetime(2012, 5, 1, 0, 0): 2999, datetime.datetime(2013, 7, 1, 0, 0): 3079, datetime.datetime(2012, 1, 1, 0, 0): 2758, datetime.datetime(2012, 4, 1, 0, 0): 2795, datetime.datetime(2014, 4, 1, 0, 0): 2862, datetime.datetime(2012, 8, 1, 0, 0): 2954, datetime.datetime(2014, 6, 1, 0, 0): 2931, datetime.datetime(2014, 11, 1, 0, 0): 2756, datetime.datetime(2014, 1, 1, 0, 0): 2651, datetime.datetime(2013, 8, 1, 0, 0): 2859, datetime.datetime(2013, 6, 1, 0, 0): 2920, datetime.datetime(2014, 3, 1, 0, 0): 2684, datetime.datetime(2013, 5, 1, 0, 0): 2806, datetime.datetime(2013, 11, 1, 0, 0): 2758, datetime.datetime(2012, 9, 1, 0, 0): 2852, datetime.datetime(2014, 5, 1, 0, 0): 2864, datetime.datetime(2013, 4, 1, 0, 0): 2798, datetime.datetime(2013, 2, 1, 0, 0): 2375, datetime.datetime(2014, 10, 1, 0, 0): 2865, datetime.datetime(2013, 1, 1, 0, 0): 2864, datetime.datetime(2012, 6, 1, 0, 0): 2826}\n"
     ]
    }
   ],
   "source": [
    "import datetime\n",
    "\n",
    "\n",
    "dates = [datetime.datetime(year=int(row[1]), month=int(row[2]), day=1) for row in new_data]\n",
    "\n",
    "date_counts = {}\n",
    "\n",
    "for date in dates:\n",
    "    if date in date_counts:\n",
    "        date_counts[date] = date_counts[date] + 1\n",
    "    else:\n",
    "        date_counts[date] = 1\n",
    "print(date_counts)\n",
    "        \n",
    "    "
   ]
  },
  {
   "cell_type": "code",
   "execution_count": 14,
   "metadata": {
    "collapsed": false
   },
   "outputs": [
    {
     "name": "stdout",
     "output_type": "stream",
     "text": [
      "{'Asian/Pacific Islander': 1326, 'Black': 23296, 'Hispanic': 9022, 'White': 66237, 'Native American/Native Alaskan': 917}\n",
      "{'M': 86349, 'F': 14449}\n"
     ]
    }
   ],
   "source": [
    "sex_counts = {}\n",
    "race_counts = {}\n",
    "for row in new_data:\n",
    "    gender = row[5]\n",
    "    race = row[7]\n",
    "    if gender in sex_counts:\n",
    "        sex_counts[gender] += 1\n",
    "    else:\n",
    "        sex_counts[gender] = 1\n",
    "    if race in race_counts:\n",
    "        race_counts[race] += 1\n",
    "    else:\n",
    "        race_counts[race] = 1\n",
    "print(race_counts)\n",
    "print(sex_counts)"
   ]
  },
  {
   "cell_type": "code",
   "execution_count": 15,
   "metadata": {
    "collapsed": false
   },
   "outputs": [
    {
     "name": "stdout",
     "output_type": "stream",
     "text": [
      "[['Id', 'Year', 'Id', 'Sex', 'Id', 'Hispanic Origin', 'Id', 'Id2', 'Geography', 'Total', 'Race Alone - White', 'Race Alone - Hispanic', 'Race Alone - Black or African American', 'Race Alone - American Indian and Alaska Native', 'Race Alone - Asian', 'Race Alone - Native Hawaiian and Other Pacific Islander', 'Two or More Races'], ['cen42010', 'April 1, 2010 Census', 'totsex', 'Both Sexes', 'tothisp', 'Total', '0100000US', '', 'United States', '308745538', '197318956', '44618105', '40250635', '3739506', '15159516', '674625', '6984195']]\n"
     ]
    }
   ],
   "source": [
    "f = open(\"census.csv\", \"r\")\n",
    "csvreader = csv.reader(f)\n",
    "census = list(csvreader)\n",
    "print(census)"
   ]
  },
  {
   "cell_type": "code",
   "execution_count": 20,
   "metadata": {
    "collapsed": false
   },
   "outputs": [
    {
     "name": "stdout",
     "output_type": "stream",
     "text": [
      "{'Asian/Pacific Islander': 8.374309664161762, 'Black': 622.9699858751396, 'Hispanic': 20.220491210910907, 'White': 33.56849303419181, 'Native American/Native Alaskan': 2.278224927383133}\n"
     ]
    }
   ],
   "source": [
    "mapping = {\n",
    "    \"Asian/Pacific Islander\": 15159516 + 674625,\n",
    "    \"Black\": 3739506,\n",
    "    \"Native American/Native Alaskan\": 40250635,\n",
    "    \"Hispanic\": 44618105, \n",
    "    \"White\": 197318956\n",
    "}\n",
    "\n",
    "race_per_hundredk = {}\n",
    "\n",
    "for k,v in race_counts.items():\n",
    "    per_hundredk = (v/mapping[k]) * 100000\n",
    "    race_per_hundredk[k] = per_hundredk \n",
    "print(race_per_hundredk)"
   ]
  },
  {
   "cell_type": "code",
   "execution_count": 23,
   "metadata": {
    "collapsed": false
   },
   "outputs": [
    {
     "name": "stdout",
     "output_type": "stream",
     "text": [
      "{'Asian/Pacific Islander': 3.530346230970155, 'Black': 521.7266665703972, 'Hispanic': 12.627161104219914, 'White': 4.6356417981453335, 'Native American/Native Alaskan': 0.8099251104982568}\n"
     ]
    }
   ],
   "source": [
    "intents = [row[3] for row in new_data]\n",
    "races = [row[7] for row in new_data]\n",
    "\n",
    "homicide_race_counts = {}\n",
    "\n",
    "for i, race in enumerate(races):\n",
    "    if race not in homicide_race_counts:\n",
    "        homicide_race_counts[race] = 0\n",
    "    if intents[i] == \"Homicide\":\n",
    "        homicide_race_counts[race] += 1\n",
    "race_per_hundredk = {}\n",
    "\n",
    "for k,v in homicide_race_counts.items():\n",
    "    race_per_hundredk[k] = (v / mapping[k]) * 100000\n",
    "print(race_per_hundredk)"
   ]
  },
  {
   "cell_type": "code",
   "execution_count": null,
   "metadata": {
    "collapsed": true
   },
   "outputs": [],
   "source": []
  }
 ],
 "metadata": {
  "kernelspec": {
   "display_name": "Python 3",
   "language": "python",
   "name": "python3"
  },
  "language_info": {
   "codemirror_mode": {
    "name": "ipython",
    "version": 3
   },
   "file_extension": ".py",
   "mimetype": "text/x-python",
   "name": "python",
   "nbconvert_exporter": "python",
   "pygments_lexer": "ipython3",
   "version": "3.4.3"
  }
 },
 "nbformat": 4,
 "nbformat_minor": 0
}
